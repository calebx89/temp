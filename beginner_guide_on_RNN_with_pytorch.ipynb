{
  "nbformat": 4,
  "nbformat_minor": 0,
  "metadata": {
    "colab": {
      "name": "beginner guide on RNN with pytorch.ipynb",
      "provenance": [],
      "collapsed_sections": [],
      "include_colab_link": true
    },
    "kernelspec": {
      "name": "python3",
      "display_name": "Python 3"
    },
    "accelerator": "GPU"
  },
  "cells": [
    {
      "cell_type": "markdown",
      "metadata": {
        "id": "view-in-github",
        "colab_type": "text"
      },
      "source": [
        "<a href=\"https://colab.research.google.com/github/calebx89/temp/blob/master/beginner_guide_on_RNN_with_pytorch.ipynb\" target=\"_parent\"><img src=\"https://colab.research.google.com/assets/colab-badge.svg\" alt=\"Open In Colab\"/></a>"
      ]
    },
    {
      "cell_type": "code",
      "metadata": {
        "id": "kkp97CtEmiTh"
      },
      "source": [
        "import torch\r\n",
        "from torch import nn\r\n",
        "\r\n",
        "import numpy as np"
      ],
      "execution_count": null,
      "outputs": []
    },
    {
      "cell_type": "code",
      "metadata": {
        "id": "hx42WI1Euc6h"
      },
      "source": [
        "text = ['hey how are you','good i am fine','have a nice day']\r\n",
        "\r\n",
        "# Join all the sentences together and extract the unique characters from the combined sentences\r\n",
        "chars = set(''.join(text))\r\n",
        "\r\n",
        "# Creating a dictionary that maps integers to the characters\r\n",
        "int2char = dict(enumerate(chars))\r\n",
        "\r\n",
        "# Creating another dictionary that maps characters to integers\r\n",
        "char2int = {char: ind for ind, char in int2char.items()}\r\n",
        "\r\n",
        "\r\n",
        "maxlen = len(max(text, key=len))"
      ],
      "execution_count": null,
      "outputs": []
    },
    {
      "cell_type": "code",
      "metadata": {
        "id": "80X9LmzJ2N5s"
      },
      "source": [
        "for i in range(len(text)):\r\n",
        "    while len(text[i])<maxlen:\r\n",
        "        text[i] += ' '"
      ],
      "execution_count": null,
      "outputs": []
    },
    {
      "cell_type": "code",
      "metadata": {
        "id": "FWeCypFa2ab1"
      },
      "source": [
        "# Creating lists that will hold our input and target sequences\r\n",
        "input_seq = []\r\n",
        "target_seq = []\r\n",
        "\r\n",
        "for i in range(len(text)):\r\n",
        "    # Remove last character for input sequence\r\n",
        "  input_seq.append(text[i][:-1])\r\n",
        "    \r\n",
        "    # Remove first character for target sequence\r\n",
        "  target_seq.append(text[i][1:])\r\n",
        "  #print(\"Input Sequence: {}\\nTarget Sequence: {}\".format(input_seq[i], target_seq[i]))"
      ],
      "execution_count": null,
      "outputs": []
    },
    {
      "cell_type": "code",
      "metadata": {
        "id": "lKiSotCSjZXq"
      },
      "source": [
        "for i in range(len(text)):\r\n",
        "    input_seq[i] = [char2int[character] for character in input_seq[i]]\r\n",
        "    target_seq[i] = [char2int[character] for character in target_seq[i]]"
      ],
      "execution_count": null,
      "outputs": []
    },
    {
      "cell_type": "code",
      "metadata": {
        "id": "hrS7185HjiMD"
      },
      "source": [
        "dict_size = len(char2int)\r\n",
        "seq_len = maxlen - 1\r\n",
        "batch_size = len(text)\r\n",
        "\r\n",
        "def one_hot_encode(sequence, dict_size, seq_len, batch_size):\r\n",
        "    # Creating a multi-dimensional array of zeros with the desired output shape\r\n",
        "    features = np.zeros((batch_size, seq_len, dict_size), dtype=np.float32)\r\n",
        "    \r\n",
        "    # Replacing the 0 at the relevant character index with a 1 to represent that character\r\n",
        "    for i in range(batch_size):\r\n",
        "        for u in range(seq_len):\r\n",
        "            features[i, u, sequence[i][u]] = 1\r\n",
        "    return features"
      ],
      "execution_count": null,
      "outputs": []
    },
    {
      "cell_type": "code",
      "metadata": {
        "id": "2neOELt9jnEr"
      },
      "source": [
        "# Input shape --> (Batch Size, Sequence Length, One-Hot Encoding Size)\r\n",
        "input_seq = one_hot_encode(input_seq, dict_size, seq_len, batch_size)"
      ],
      "execution_count": null,
      "outputs": []
    },
    {
      "cell_type": "code",
      "metadata": {
        "id": "ve7-IK0Mj6Wr"
      },
      "source": [
        "input_seq = torch.from_numpy(input_seq)\r\n",
        "target_seq = torch.Tensor(target_seq)"
      ],
      "execution_count": null,
      "outputs": []
    },
    {
      "cell_type": "code",
      "metadata": {
        "colab": {
          "base_uri": "https://localhost:8080/"
        },
        "id": "1pMDPglnlOHF",
        "outputId": "58c0b78d-fbf1-4d8f-fb85-ce157e6ca868"
      },
      "source": [
        "# torch.cuda.is_available() checks and returns a Boolean True if a GPU is available, else it'll return False\r\n",
        "is_cuda = torch.cuda.is_available()\r\n",
        "\r\n",
        "# If we have a GPU available, we'll set our device to GPU. We'll use this device variable later in our code.\r\n",
        "if is_cuda:\r\n",
        "    device = torch.device(\"cuda\")\r\n",
        "    print(\"GPU is available\")\r\n",
        "else:\r\n",
        "    device = torch.device(\"cpu\")\r\n",
        "    print(\"GPU not available, CPU used\")"
      ],
      "execution_count": null,
      "outputs": [
        {
          "output_type": "stream",
          "text": [
            "GPU is available\n"
          ],
          "name": "stdout"
        }
      ]
    },
    {
      "cell_type": "code",
      "metadata": {
        "id": "Ny-EUX1nmmK_"
      },
      "source": [
        "class Model(nn.Module):\r\n",
        "    def __init__(self, input_size, output_size, hidden_dim, n_layers):\r\n",
        "        super(Model, self).__init__()\r\n",
        "\r\n",
        "        # Defining some parameters\r\n",
        "        self.hidden_dim = hidden_dim\r\n",
        "        self.n_layers = n_layers\r\n",
        "\r\n",
        "        #Defining the layers\r\n",
        "        # RNN Layer\r\n",
        "        self.rnn = nn.RNN(input_size, hidden_dim, n_layers, batch_first=True)   \r\n",
        "        # Fully connected layer\r\n",
        "        self.fc = nn.Linear(hidden_dim, output_size)\r\n",
        "    \r\n",
        "    def forward(self, x):\r\n",
        "        \r\n",
        "        batch_size = x.size(0)\r\n",
        "\r\n",
        "        # Initializing hidden state for first input using method defined below\r\n",
        "        hidden = self.init_hidden(batch_size).to(device)\r\n",
        "        \r\n",
        "        #print(hidden.is_cuda) #debug and see what is not in GPU\r\n",
        "\r\n",
        "        # Passing in the input and hidden state into the model and obtaining outputs\r\n",
        "        out, hidden = self.rnn(x, hidden)\r\n",
        "\r\n",
        "\r\n",
        "        # Reshaping the outputs such that it can be fit into the fully connected layer\r\n",
        "        out = out.contiguous().view(-1, self.hidden_dim)\r\n",
        "        out = self.fc(out)\r\n",
        "        \r\n",
        "        return out, hidden\r\n",
        "    \r\n",
        "    def init_hidden(self, batch_size):\r\n",
        "        # This method generates the first hidden state of zeros which we'll use in the forward pass\r\n",
        "        # We'll send the tensor holding the hidden state to the device we specified earlier as well\r\n",
        "        hidden = torch.zeros(self.n_layers, batch_size, self.hidden_dim).cuda()\r\n",
        "        \r\n",
        "        return hidden"
      ],
      "execution_count": null,
      "outputs": []
    },
    {
      "cell_type": "code",
      "metadata": {
        "id": "0QEq0L3InOfz"
      },
      "source": [
        "# Instantiate the model with hyperparameters\r\n",
        "model = Model(input_size=dict_size, output_size=dict_size, hidden_dim=12, n_layers=1).to(device)\r\n",
        "# We'll also set the model to the device that we defined earlier (default is CPU)\r\n",
        "input_seq = input_seq.to(device)\r\n",
        "target_seq = target_seq.to(device)\r\n",
        "\r\n",
        "# Define hyperparameters\r\n",
        "n_epochs = 100\r\n",
        "lr=0.01\r\n",
        "\r\n",
        "# Define Loss, Optimizer\r\n",
        "criterion = nn.CrossEntropyLoss()\r\n",
        "optimizer = torch.optim.Adam(model.parameters(), lr=lr)"
      ],
      "execution_count": null,
      "outputs": []
    },
    {
      "cell_type": "code",
      "metadata": {
        "id": "4l31LgtpnWbd",
        "colab": {
          "base_uri": "https://localhost:8080/"
        },
        "outputId": "e19a6947-b591-4f5a-a1b5-821c48968a20"
      },
      "source": [
        "# Training Run\r\n",
        "for epoch in range(1, n_epochs + 1):\r\n",
        "    optimizer.zero_grad() # Clears existing gradients from previous epoch\r\n",
        "    output, hidden = model(input_seq)\r\n",
        "    loss = criterion(output, target_seq.view(-1).long())\r\n",
        "    loss.backward() # Does backpropagation and calculates gradients\r\n",
        "    optimizer.step() # Updates the weights accordingly\r\n",
        "    \r\n",
        "    if epoch%10 == 0:\r\n",
        "        print('Epoch: {}/{}.............'.format(epoch, n_epochs), end=' ')\r\n",
        "        print(\"Loss: {:.4f}\".format(loss.item()))"
      ],
      "execution_count": null,
      "outputs": [
        {
          "output_type": "stream",
          "text": [
            "Epoch: 10/100............. Loss: 2.3608\n",
            "Epoch: 20/100............. Loss: 2.0547\n",
            "Epoch: 30/100............. Loss: 1.6829\n",
            "Epoch: 40/100............. Loss: 1.2991\n",
            "Epoch: 50/100............. Loss: 0.9537\n",
            "Epoch: 60/100............. Loss: 0.6645\n",
            "Epoch: 70/100............. Loss: 0.4480\n",
            "Epoch: 80/100............. Loss: 0.3001\n",
            "Epoch: 90/100............. Loss: 0.2102\n",
            "Epoch: 100/100............. Loss: 0.1576\n"
          ],
          "name": "stdout"
        }
      ]
    },
    {
      "cell_type": "code",
      "metadata": {
        "id": "yVmIysJUoD9A"
      },
      "source": [
        "# This function takes in the model and character as arguments and returns the next character prediction and hidden state\r\n",
        "def predict(model, character):\r\n",
        "    # One-hot encoding our input to fit into the model\r\n",
        "    character = np.array([[char2int[c] for c in character]])\r\n",
        "    character = one_hot_encode(character, dict_size, character.shape[1], 1)\r\n",
        "    character = torch.from_numpy(character)\r\n",
        "    character.to(device)\r\n",
        "    \r\n",
        "    out, hidden = model(character)\r\n",
        "\r\n",
        "    prob = nn.functional.softmax(out[-1], dim=0).data\r\n",
        "    # Taking the class with the highest probability score from the output\r\n",
        "    char_ind = torch.max(prob, dim=0)[1].item()\r\n",
        "\r\n",
        "    return int2char[char_ind], hidden"
      ],
      "execution_count": null,
      "outputs": []
    },
    {
      "cell_type": "code",
      "metadata": {
        "id": "2Z1QLZm2oF1Y"
      },
      "source": [
        "# This function takes the desired output length and input characters as arguments, returning the produced sentence\r\n",
        "def sample(model, out_len, start='hey'):\r\n",
        "    model.eval() # eval mode\r\n",
        "    start = start.lower()\r\n",
        "    # First off, run through the starting characters\r\n",
        "    chars = [ch for ch in start]\r\n",
        "    size = out_len - len(chars)\r\n",
        "    # Now pass in the previous characters and get a new one\r\n",
        "    for ii in range(size):\r\n",
        "        char, h = predict(model, chars)\r\n",
        "        chars.append(char)\r\n",
        "\r\n",
        "    return ''.join(chars)"
      ],
      "execution_count": null,
      "outputs": []
    },
    {
      "cell_type": "code",
      "metadata": {
        "colab": {
          "base_uri": "https://localhost:8080/"
        },
        "id": "9xcsw5AFoH2I",
        "outputId": "7af7438d-4ee7-4c31-828d-d53e921eb78f"
      },
      "source": [
        "sample(model, 15, 'hi')"
      ],
      "execution_count": null,
      "outputs": [
        {
          "output_type": "execute_result",
          "data": {
            "application/vnd.google.colaboratory.intrinsic+json": {
              "type": "string"
            },
            "text/plain": [
              "'hiyavod ine aow'"
            ]
          },
          "metadata": {
            "tags": []
          },
          "execution_count": 55
        }
      ]
    }
  ]
}