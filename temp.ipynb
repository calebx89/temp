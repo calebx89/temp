{
  "nbformat": 4,
  "nbformat_minor": 0,
  "metadata": {
    "colab": {
      "name": "temp.ipynb",
      "provenance": [],
      "collapsed_sections": [],
      "mount_file_id": "1eNiTQrFTateKmZgHgyHc7_-go3UqumaH",
      "authorship_tag": "ABX9TyP9LicO74g/L8mKisZ38hXL",
      "include_colab_link": true
    },
    "kernelspec": {
      "name": "python3",
      "display_name": "Python 3"
    }
  },
  "cells": [
    {
      "cell_type": "markdown",
      "metadata": {
        "id": "view-in-github",
        "colab_type": "text"
      },
      "source": [
        "<a href=\"https://colab.research.google.com/github/calebx89/temp/blob/master/temp.ipynb\" target=\"_parent\"><img src=\"https://colab.research.google.com/assets/colab-badge.svg\" alt=\"Open In Colab\"/></a>"
      ]
    },
    {
      "cell_type": "code",
      "metadata": {
        "id": "Xue36_hdJy4z",
        "colab_type": "code",
        "colab": {}
      },
      "source": [
        "\n",
        "def tonum_wexception(S):\n",
        "  if len(S)>0:\n",
        "    return(int(S))\n",
        "  else:\n",
        "    return(0)\n",
        "\n",
        "import csv\n",
        "with open('/content/drive/My Drive/Colab Notebooks/train.csv', newline='') as f:\n",
        "    reader = csv.reader(f)\n",
        "    next(reader)\n",
        "    Survived=[]\n",
        "    Pclass=[]\n",
        "    for row in reader:\n",
        "      Survived.append(tonum_wexception(row[1]))\n",
        "      Pclass.append(tonum_wexception(row[2]))"
      ],
      "execution_count": 0,
      "outputs": []
    },
    {
      "cell_type": "code",
      "metadata": {
        "id": "EycP220MPxlP",
        "colab_type": "code",
        "colab": {
          "base_uri": "https://localhost:8080/",
          "height": 74
        },
        "outputId": "58a6962a-0b8e-48e5-e985-157509939fc2"
      },
      "source": [
        "\n",
        "import pandas as pd\n",
        "#Register Pandas Formatters and Converters with matplotlib.\n",
        "pd.plotting.register_matplotlib_converters()\n",
        "import matplotlib.pyplot as plt\n",
        "#magic function\n",
        "%matplotlib inline\n",
        "import seaborn as sns\n",
        "\n",
        "# Path of the file to read\n",
        "titanic_filepath = \"/content/drive/My Drive/Colab Notebooks/train.csv\"\n",
        "\n",
        "# Read the file into a variable fifa_data\n",
        "# change the index column to \"Date\", and parse the data(row labels are recognized as dates.)\n",
        "titanic = pd.read_csv(titanic_filepath, index_col=\"PassengerId\", parse_dates=True)"
      ],
      "execution_count": 7,
      "outputs": [
        {
          "output_type": "stream",
          "text": [
            "/usr/local/lib/python3.6/dist-packages/statsmodels/tools/_testing.py:19: FutureWarning: pandas.util.testing is deprecated. Use the functions in the public API at pandas.testing instead.\n",
            "  import pandas.util.testing as tm\n"
          ],
          "name": "stderr"
        }
      ]
    },
    {
      "cell_type": "code",
      "metadata": {
        "id": "v1jvCPOsWJOR",
        "colab_type": "code",
        "outputId": "e17d7ab2-5e1f-4fc1-e448-c566253f1d25",
        "colab": {
          "base_uri": "https://localhost:8080/",
          "height": 297
        }
      },
      "source": [
        "\n",
        "ax = sns.countplot(x=\"Embarked\", hue=\"Survived\", data=titanic)\n"
      ],
      "execution_count": 15,
      "outputs": [
        {
          "output_type": "execute_result",
          "data": {
            "text/plain": [
              "matplotlib.figure.Figure"
            ]
          },
          "metadata": {
            "tags": []
          },
          "execution_count": 15
        },
        {
          "output_type": "display_data",
          "data": {
            "image/png": "[encoded data removed]",
            "text/plain": [
              "<Figure size 432x288 with 1 Axes>"
            ]
          },
          "metadata": {
            "tags": [],
            "needs_background": "light"
          }
        }
      ]
    }
  ]
}